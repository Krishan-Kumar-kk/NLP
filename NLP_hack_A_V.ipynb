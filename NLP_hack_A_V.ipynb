{
  "nbformat": 4,
  "nbformat_minor": 0,
  "metadata": {
    "colab": {
      "name": "NLP_hack_A.V.ipynb",
      "provenance": [],
      "collapsed_sections": [],
      "authorship_tag": "ABX9TyNX0aLCnG8I5na/3py68KGC",
      "include_colab_link": true
    },
    "kernelspec": {
      "name": "python3",
      "display_name": "Python 3"
    }
  },
  "cells": [
    {
      "cell_type": "markdown",
      "metadata": {
        "id": "view-in-github",
        "colab_type": "text"
      },
      "source": [
        "<a href=\"https://colab.research.google.com/github/Krishan-Kumar-kk/NLP/blob/main/NLP_hack_A_V.ipynb\" target=\"_parent\"><img src=\"https://colab.research.google.com/assets/colab-badge.svg\" alt=\"Open In Colab\"/></a>"
      ]
    },
    {
      "cell_type": "code",
      "metadata": {
        "id": "_q0DRhggExZS"
      },
      "source": [
        "import numpy as np\r\n",
        "import pandas as pd\r\n",
        "import matplotlib.pyplot as plt\r\n",
        "from tensorflow.keras.layers import Embedding,LSTM,Dense,Dropout\r\n",
        "from tensorflow.keras.preprocessing.sequence import pad_sequences\r\n",
        "from tensorflow.keras.models import Sequential\r\n",
        "from tensorflow.keras.preprocessing.text import one_hot"
      ],
      "execution_count": 8,
      "outputs": []
    },
    {
      "cell_type": "code",
      "metadata": {
        "id": "ZdqobU8vFCE5"
      },
      "source": [
        "df = pd.read_csv('/content/train.csv')\r\n",
        "test = pd.read_csv('/content/test.csv')"
      ],
      "execution_count": 9,
      "outputs": []
    },
    {
      "cell_type": "code",
      "metadata": {
        "id": "yqoixCv0FqIC"
      },
      "source": [
        "overview=pd.read_csv(\"/content/game_overview.csv\")"
      ],
      "execution_count": 10,
      "outputs": []
    },
    {
      "cell_type": "code",
      "metadata": {
        "colab": {
          "base_uri": "https://localhost:8080/",
          "height": 194
        },
        "id": "yAoP-5vXFjMG",
        "outputId": "df4766ed-028d-4e2a-af49-180851ae6c2c"
      },
      "source": [
        "df.head()"
      ],
      "execution_count": 11,
      "outputs": [
        {
          "output_type": "execute_result",
          "data": {
            "text/html": [
              "<div>\n",
              "<style scoped>\n",
              "    .dataframe tbody tr th:only-of-type {\n",
              "        vertical-align: middle;\n",
              "    }\n",
              "\n",
              "    .dataframe tbody tr th {\n",
              "        vertical-align: top;\n",
              "    }\n",
              "\n",
              "    .dataframe thead th {\n",
              "        text-align: right;\n",
              "    }\n",
              "</style>\n",
              "<table border=\"1\" class=\"dataframe\">\n",
              "  <thead>\n",
              "    <tr style=\"text-align: right;\">\n",
              "      <th></th>\n",
              "      <th>review_id</th>\n",
              "      <th>title</th>\n",
              "      <th>year</th>\n",
              "      <th>user_review</th>\n",
              "      <th>user_suggestion</th>\n",
              "    </tr>\n",
              "  </thead>\n",
              "  <tbody>\n",
              "    <tr>\n",
              "      <th>0</th>\n",
              "      <td>1</td>\n",
              "      <td>Spooky's Jump Scare Mansion</td>\n",
              "      <td>2016.0</td>\n",
              "      <td>I'm scared and hearing creepy voices.  So I'll...</td>\n",
              "      <td>1</td>\n",
              "    </tr>\n",
              "    <tr>\n",
              "      <th>1</th>\n",
              "      <td>2</td>\n",
              "      <td>Spooky's Jump Scare Mansion</td>\n",
              "      <td>2016.0</td>\n",
              "      <td>Best game, more better than Sam Pepper's YouTu...</td>\n",
              "      <td>1</td>\n",
              "    </tr>\n",
              "    <tr>\n",
              "      <th>2</th>\n",
              "      <td>3</td>\n",
              "      <td>Spooky's Jump Scare Mansion</td>\n",
              "      <td>2016.0</td>\n",
              "      <td>A littly iffy on the controls, but once you kn...</td>\n",
              "      <td>1</td>\n",
              "    </tr>\n",
              "    <tr>\n",
              "      <th>3</th>\n",
              "      <td>4</td>\n",
              "      <td>Spooky's Jump Scare Mansion</td>\n",
              "      <td>2015.0</td>\n",
              "      <td>Great game, fun and colorful and all that.A si...</td>\n",
              "      <td>1</td>\n",
              "    </tr>\n",
              "    <tr>\n",
              "      <th>4</th>\n",
              "      <td>5</td>\n",
              "      <td>Spooky's Jump Scare Mansion</td>\n",
              "      <td>2015.0</td>\n",
              "      <td>Not many games have the cute tag right next to...</td>\n",
              "      <td>1</td>\n",
              "    </tr>\n",
              "  </tbody>\n",
              "</table>\n",
              "</div>"
            ],
            "text/plain": [
              "   review_id  ... user_suggestion\n",
              "0          1  ...               1\n",
              "1          2  ...               1\n",
              "2          3  ...               1\n",
              "3          4  ...               1\n",
              "4          5  ...               1\n",
              "\n",
              "[5 rows x 5 columns]"
            ]
          },
          "metadata": {
            "tags": []
          },
          "execution_count": 11
        }
      ]
    },
    {
      "cell_type": "code",
      "metadata": {
        "colab": {
          "base_uri": "https://localhost:8080/",
          "height": 194
        },
        "id": "TZa4KBgGFzsU",
        "outputId": "931a5407-1dc0-434b-92f1-a189597415e1"
      },
      "source": [
        "overview.head()"
      ],
      "execution_count": 12,
      "outputs": [
        {
          "output_type": "execute_result",
          "data": {
            "text/html": [
              "<div>\n",
              "<style scoped>\n",
              "    .dataframe tbody tr th:only-of-type {\n",
              "        vertical-align: middle;\n",
              "    }\n",
              "\n",
              "    .dataframe tbody tr th {\n",
              "        vertical-align: top;\n",
              "    }\n",
              "\n",
              "    .dataframe thead th {\n",
              "        text-align: right;\n",
              "    }\n",
              "</style>\n",
              "<table border=\"1\" class=\"dataframe\">\n",
              "  <thead>\n",
              "    <tr style=\"text-align: right;\">\n",
              "      <th></th>\n",
              "      <th>title</th>\n",
              "      <th>developer</th>\n",
              "      <th>publisher</th>\n",
              "      <th>tags</th>\n",
              "      <th>overview</th>\n",
              "    </tr>\n",
              "  </thead>\n",
              "  <tbody>\n",
              "    <tr>\n",
              "      <th>0</th>\n",
              "      <td>Spooky's Jump Scare Mansion</td>\n",
              "      <td>Lag Studios</td>\n",
              "      <td>Lag Studios</td>\n",
              "      <td>['Horror', 'Free to Play', 'Cute', 'First-Pers...</td>\n",
              "      <td>Can you survive 1000 rooms of cute terror? Or ...</td>\n",
              "    </tr>\n",
              "    <tr>\n",
              "      <th>1</th>\n",
              "      <td>Sakura Clicker</td>\n",
              "      <td>Winged Cloud</td>\n",
              "      <td>Winged Cloud</td>\n",
              "      <td>['Nudity', 'Anime', 'Free to Play', 'Mature', ...</td>\n",
              "      <td>The latest entry in the Sakura series is more ...</td>\n",
              "    </tr>\n",
              "    <tr>\n",
              "      <th>2</th>\n",
              "      <td>WARMODE</td>\n",
              "      <td>WARTEAM</td>\n",
              "      <td>WARTEAM</td>\n",
              "      <td>['Early Access', 'Free to Play', 'FPS', 'Multi...</td>\n",
              "      <td>Free to play shooter about the confrontation o...</td>\n",
              "    </tr>\n",
              "    <tr>\n",
              "      <th>3</th>\n",
              "      <td>Fractured Space</td>\n",
              "      <td>Edge Case Games Ltd.</td>\n",
              "      <td>Edge Case Games Ltd.</td>\n",
              "      <td>['Space', 'Multiplayer', 'Free to Play', 'PvP'...</td>\n",
              "      <td>Take the helm of a gigantic capital ship and g...</td>\n",
              "    </tr>\n",
              "    <tr>\n",
              "      <th>4</th>\n",
              "      <td>Counter-Strike: Global Offensive</td>\n",
              "      <td>Valve, Hidden Path Entertainment</td>\n",
              "      <td>Valve</td>\n",
              "      <td>['FPS', 'Multiplayer', 'Shooter', 'Action', 'T...</td>\n",
              "      <td>Counter-Strike: Global Offensive (CS: GO) expa...</td>\n",
              "    </tr>\n",
              "  </tbody>\n",
              "</table>\n",
              "</div>"
            ],
            "text/plain": [
              "                              title  ...                                           overview\n",
              "0       Spooky's Jump Scare Mansion  ...  Can you survive 1000 rooms of cute terror? Or ...\n",
              "1                    Sakura Clicker  ...  The latest entry in the Sakura series is more ...\n",
              "2                           WARMODE  ...  Free to play shooter about the confrontation o...\n",
              "3                   Fractured Space  ...  Take the helm of a gigantic capital ship and g...\n",
              "4  Counter-Strike: Global Offensive  ...  Counter-Strike: Global Offensive (CS: GO) expa...\n",
              "\n",
              "[5 rows x 5 columns]"
            ]
          },
          "metadata": {
            "tags": []
          },
          "execution_count": 12
        }
      ]
    },
    {
      "cell_type": "code",
      "metadata": {
        "colab": {
          "base_uri": "https://localhost:8080/",
          "height": 194
        },
        "id": "WXHBVTp_F4sM",
        "outputId": "6aed75d8-526f-4239-d104-caf2324aae70"
      },
      "source": [
        "test.head()"
      ],
      "execution_count": 13,
      "outputs": [
        {
          "output_type": "execute_result",
          "data": {
            "text/html": [
              "<div>\n",
              "<style scoped>\n",
              "    .dataframe tbody tr th:only-of-type {\n",
              "        vertical-align: middle;\n",
              "    }\n",
              "\n",
              "    .dataframe tbody tr th {\n",
              "        vertical-align: top;\n",
              "    }\n",
              "\n",
              "    .dataframe thead th {\n",
              "        text-align: right;\n",
              "    }\n",
              "</style>\n",
              "<table border=\"1\" class=\"dataframe\">\n",
              "  <thead>\n",
              "    <tr style=\"text-align: right;\">\n",
              "      <th></th>\n",
              "      <th>review_id</th>\n",
              "      <th>title</th>\n",
              "      <th>year</th>\n",
              "      <th>user_review</th>\n",
              "    </tr>\n",
              "  </thead>\n",
              "  <tbody>\n",
              "    <tr>\n",
              "      <th>0</th>\n",
              "      <td>1603</td>\n",
              "      <td>Counter-Strike: Global Offensive</td>\n",
              "      <td>2015.0</td>\n",
              "      <td>Nice graphics, new maps, weapons and models. B...</td>\n",
              "    </tr>\n",
              "    <tr>\n",
              "      <th>1</th>\n",
              "      <td>1604</td>\n",
              "      <td>Counter-Strike: Global Offensive</td>\n",
              "      <td>2018.0</td>\n",
              "      <td>I would not recommend getting into this at its...</td>\n",
              "    </tr>\n",
              "    <tr>\n",
              "      <th>2</th>\n",
              "      <td>1605</td>\n",
              "      <td>Counter-Strike: Global Offensive</td>\n",
              "      <td>2018.0</td>\n",
              "      <td>Edit 11/12/18I have tried playing CS:GO recent...</td>\n",
              "    </tr>\n",
              "    <tr>\n",
              "      <th>3</th>\n",
              "      <td>1606</td>\n",
              "      <td>Counter-Strike: Global Offensive</td>\n",
              "      <td>2015.0</td>\n",
              "      <td>The game is great. But the community is the wo...</td>\n",
              "    </tr>\n",
              "    <tr>\n",
              "      <th>4</th>\n",
              "      <td>1607</td>\n",
              "      <td>Counter-Strike: Global Offensive</td>\n",
              "      <td>2015.0</td>\n",
              "      <td>I thank TrulyRazor for buying this for me a lo...</td>\n",
              "    </tr>\n",
              "  </tbody>\n",
              "</table>\n",
              "</div>"
            ],
            "text/plain": [
              "   review_id  ...                                        user_review\n",
              "0       1603  ...  Nice graphics, new maps, weapons and models. B...\n",
              "1       1604  ...  I would not recommend getting into this at its...\n",
              "2       1605  ...  Edit 11/12/18I have tried playing CS:GO recent...\n",
              "3       1606  ...  The game is great. But the community is the wo...\n",
              "4       1607  ...  I thank TrulyRazor for buying this for me a lo...\n",
              "\n",
              "[5 rows x 4 columns]"
            ]
          },
          "metadata": {
            "tags": []
          },
          "execution_count": 13
        }
      ]
    },
    {
      "cell_type": "code",
      "metadata": {
        "colab": {
          "base_uri": "https://localhost:8080/"
        },
        "id": "Z3E6vjaKF-qM",
        "outputId": "46c11727-2bc6-44ac-b772-958a19ea57f1"
      },
      "source": [
        "df_Train=df.merge(overview,how='left',on='title')\r\n",
        "print(\"shape of df_train:\", df_Train.shape)"
      ],
      "execution_count": 14,
      "outputs": [
        {
          "output_type": "stream",
          "text": [
            "shape of df_train: (17494, 9)\n"
          ],
          "name": "stdout"
        }
      ]
    },
    {
      "cell_type": "code",
      "metadata": {
        "id": "cnfrQZ0uGUxy"
      },
      "source": [
        "df_Test=test.merge(overview,how='left',on='title')"
      ],
      "execution_count": 15,
      "outputs": []
    },
    {
      "cell_type": "code",
      "metadata": {
        "colab": {
          "base_uri": "https://localhost:8080/"
        },
        "id": "32M-BLodGXNj",
        "outputId": "2603565c-2588-4f30-8e5c-450f9d080206"
      },
      "source": [
        "df_Train.isnull().sum()"
      ],
      "execution_count": 16,
      "outputs": [
        {
          "output_type": "execute_result",
          "data": {
            "text/plain": [
              "review_id            0\n",
              "title                0\n",
              "year               178\n",
              "user_review          0\n",
              "user_suggestion      0\n",
              "developer            0\n",
              "publisher            0\n",
              "tags                 0\n",
              "overview             0\n",
              "dtype: int64"
            ]
          },
          "metadata": {
            "tags": []
          },
          "execution_count": 16
        }
      ]
    },
    {
      "cell_type": "code",
      "metadata": {
        "id": "CzFHwgu5Hh6B"
      },
      "source": [
        "df_Train['year']=df_Train['year'].ffill(axis=0)\r\n",
        "df_Test['year']=df_Test['year'].ffill(axis=0)"
      ],
      "execution_count": 17,
      "outputs": []
    },
    {
      "cell_type": "code",
      "metadata": {
        "colab": {
          "base_uri": "https://localhost:8080/"
        },
        "id": "lrgTds4VGr_-",
        "outputId": "319232b6-b894-4944-f900-6d58336c7158"
      },
      "source": [
        "df_Train['year'].unique()"
      ],
      "execution_count": 18,
      "outputs": [
        {
          "output_type": "execute_result",
          "data": {
            "text/plain": [
              "array([2016., 2015., 2017., 2018., 2014., 2012., 2013., 2011.])"
            ]
          },
          "metadata": {
            "tags": []
          },
          "execution_count": 18
        }
      ]
    },
    {
      "cell_type": "code",
      "metadata": {
        "colab": {
          "base_uri": "https://localhost:8080/"
        },
        "id": "MlMFFm7MHIHa",
        "outputId": "2f4a5053-bf2b-482a-d97b-816fe5178ef2"
      },
      "source": [
        "X = df_Train.drop('user_suggestion',axis=1)\r\n",
        "y=df['user_suggestion']\r\n",
        "print(X.shape)\r\n",
        "print(y.shape)"
      ],
      "execution_count": 19,
      "outputs": [
        {
          "output_type": "stream",
          "text": [
            "(17494, 8)\n",
            "(17494,)\n"
          ],
          "name": "stdout"
        }
      ]
    },
    {
      "cell_type": "code",
      "metadata": {
        "id": "lq3G_kEzIboI"
      },
      "source": [
        "#Choosing vocabulary size to be 5000 and copying data to msg for further cleaning\r\n",
        "voc_size = 5000\r\n",
        "msg =pd.DataFrame(X['user_review'])\r\n",
        "msg_test = test['user_review']"
      ],
      "execution_count": 20,
      "outputs": []
    },
    {
      "cell_type": "code",
      "metadata": {
        "colab": {
          "base_uri": "https://localhost:8080/",
          "height": 399
        },
        "id": "taMqdy11JKRd",
        "outputId": "9eeb1e21-c177-48d8-8964-cae236087fea"
      },
      "source": [
        "msg"
      ],
      "execution_count": 21,
      "outputs": [
        {
          "output_type": "execute_result",
          "data": {
            "text/html": [
              "<div>\n",
              "<style scoped>\n",
              "    .dataframe tbody tr th:only-of-type {\n",
              "        vertical-align: middle;\n",
              "    }\n",
              "\n",
              "    .dataframe tbody tr th {\n",
              "        vertical-align: top;\n",
              "    }\n",
              "\n",
              "    .dataframe thead th {\n",
              "        text-align: right;\n",
              "    }\n",
              "</style>\n",
              "<table border=\"1\" class=\"dataframe\">\n",
              "  <thead>\n",
              "    <tr style=\"text-align: right;\">\n",
              "      <th></th>\n",
              "      <th>user_review</th>\n",
              "    </tr>\n",
              "  </thead>\n",
              "  <tbody>\n",
              "    <tr>\n",
              "      <th>0</th>\n",
              "      <td>I'm scared and hearing creepy voices.  So I'll...</td>\n",
              "    </tr>\n",
              "    <tr>\n",
              "      <th>1</th>\n",
              "      <td>Best game, more better than Sam Pepper's YouTu...</td>\n",
              "    </tr>\n",
              "    <tr>\n",
              "      <th>2</th>\n",
              "      <td>A littly iffy on the controls, but once you kn...</td>\n",
              "    </tr>\n",
              "    <tr>\n",
              "      <th>3</th>\n",
              "      <td>Great game, fun and colorful and all that.A si...</td>\n",
              "    </tr>\n",
              "    <tr>\n",
              "      <th>4</th>\n",
              "      <td>Not many games have the cute tag right next to...</td>\n",
              "    </tr>\n",
              "    <tr>\n",
              "      <th>...</th>\n",
              "      <td>...</td>\n",
              "    </tr>\n",
              "    <tr>\n",
              "      <th>17489</th>\n",
              "      <td>Arguably the single greatest mmorp that exists...</td>\n",
              "    </tr>\n",
              "    <tr>\n",
              "      <th>17490</th>\n",
              "      <td>An older game, to be sure, but has its own cha...</td>\n",
              "    </tr>\n",
              "    <tr>\n",
              "      <th>17491</th>\n",
              "      <td>When I frist started playing Everquest 2 it wa...</td>\n",
              "    </tr>\n",
              "    <tr>\n",
              "      <th>17492</th>\n",
              "      <td>cool game. THe only thing that REALLY PISSES M...</td>\n",
              "    </tr>\n",
              "    <tr>\n",
              "      <th>17493</th>\n",
              "      <td>this game since I was a little kid, always hav...</td>\n",
              "    </tr>\n",
              "  </tbody>\n",
              "</table>\n",
              "<p>17494 rows × 1 columns</p>\n",
              "</div>"
            ],
            "text/plain": [
              "                                             user_review\n",
              "0      I'm scared and hearing creepy voices.  So I'll...\n",
              "1      Best game, more better than Sam Pepper's YouTu...\n",
              "2      A littly iffy on the controls, but once you kn...\n",
              "3      Great game, fun and colorful and all that.A si...\n",
              "4      Not many games have the cute tag right next to...\n",
              "...                                                  ...\n",
              "17489  Arguably the single greatest mmorp that exists...\n",
              "17490  An older game, to be sure, but has its own cha...\n",
              "17491  When I frist started playing Everquest 2 it wa...\n",
              "17492  cool game. THe only thing that REALLY PISSES M...\n",
              "17493  this game since I was a little kid, always hav...\n",
              "\n",
              "[17494 rows x 1 columns]"
            ]
          },
          "metadata": {
            "tags": []
          },
          "execution_count": 21
        }
      ]
    },
    {
      "cell_type": "code",
      "metadata": {
        "colab": {
          "base_uri": "https://localhost:8080/"
        },
        "id": "dVZBPqV3IbrB",
        "outputId": "dd3ea6cc-f7b2-4c63-9982-4abcf3583aea"
      },
      "source": [
        "#Downloading stopwords \r\n",
        "#Stopwords are the words in any language which does not add much meaning to a sentence.\r\n",
        "#They can safely be ignored without sacrificing the meaning of the sentence.\r\n",
        "import nltk\r\n",
        "import re\r\n",
        "from nltk.corpus import stopwords\r\n",
        "nltk.download('stopwords')\r\n"
      ],
      "execution_count": 26,
      "outputs": [
        {
          "output_type": "stream",
          "text": [
            "[nltk_data] Downloading package stopwords to /root/nltk_data...\n",
            "[nltk_data]   Package stopwords is already up-to-date!\n"
          ],
          "name": "stdout"
        }
      ]
    },
    {
      "cell_type": "code",
      "metadata": {
        "id": "_OW2Iw99r4bs"
      },
      "source": [
        "#We will be using Stemming here\r\n",
        "#Stemming map words to their root forms\r\n",
        "from nltk.stem.porter import PorterStemmer\r\n",
        "ps = PorterStemmer()\r\n",
        "corpus = []"
      ],
      "execution_count": 35,
      "outputs": []
    },
    {
      "cell_type": "code",
      "metadata": {
        "id": "abbpVQvCqV6H"
      },
      "source": [
        "#Applying stemming and some preprocessing\r\n",
        "for i in range(len(msg)):\r\n",
        "  review = re.sub('[^a-zA-Z]',' ',X['user_review'][i])\r\n",
        "  review = review.lower()\r\n",
        "  review = review.split()\r\n",
        "  review = [ps.stem(word) for word in review if not word in stopwords.words('english')]\r\n",
        "  review = ' '.join(review)\r\n",
        "  corpus.append(review)\r\n",
        "\r\n",
        "\r\n"
      ],
      "execution_count": 38,
      "outputs": []
    },
    {
      "cell_type": "code",
      "metadata": {
        "id": "R5_wm02OurOQ"
      },
      "source": [
        "#Applying stemming and some preprocessing\r\n",
        "corpus_test=[]\r\n",
        "for i in range(len(df_Test['user_review'])):\r\n",
        "  review = re.sub('[^a-zA-Z]',' ',df_Test['user_review'][i])\r\n",
        "  review = review.lower()\r\n",
        "  review = review.split()\r\n",
        "  review = [ps.stem(word) for word in review if not word in stopwords.words('english')]\r\n",
        "  review = ' '.join(review)\r\n",
        "  corpus_test.append(review)"
      ],
      "execution_count": 43,
      "outputs": []
    },
    {
      "cell_type": "code",
      "metadata": {
        "id": "w1vQn67Juk9_"
      },
      "source": [
        "# Converting to one hot representation\r\n",
        "onehot_rep = [one_hot(words,voc_size)for words in corpus]\r\n",
        "onehot_rep_test = [one_hot(words,voc_size)for words in corpus_test]"
      ],
      "execution_count": 44,
      "outputs": []
    },
    {
      "cell_type": "code",
      "metadata": {
        "id": "zPy2CAS5xjW6"
      },
      "source": [
        "#Padding Sentences to make them of same size\r\n",
        "embedded_docs = pad_sequences(onehot_rep,padding='pre',maxlen=25)\r\n",
        "embedded_docs_test = pad_sequences(onehot_rep_test,padding='pre',maxlen=25)"
      ],
      "execution_count": 45,
      "outputs": []
    },
    {
      "cell_type": "markdown",
      "metadata": {
        "id": "boNZ5EaM0Aui"
      },
      "source": [
        "# Creating and training model"
      ]
    },
    {
      "cell_type": "code",
      "metadata": {
        "colab": {
          "base_uri": "https://localhost:8080/"
        },
        "id": "25TCpwGdxva2",
        "outputId": "0011be2f-03f1-418d-fe22-5a5733b98a7a"
      },
      "source": [
        "#We have used embedding layers with LSTM\r\n",
        "model = Sequential()\r\n",
        "model.add(Embedding(voc_size,40,input_length=25))\r\n",
        "model.add(Dropout(0.3))\r\n",
        "model.add(LSTM(100))\r\n",
        "model.add(Dropout(0.3))\r\n",
        "model.add(Dense(64,activation='relu'))\r\n",
        "model.add(Dropout(0.3))\r\n",
        "model.add(Dense(1,activation='sigmoid'))\r\n",
        "model.compile(loss='binary_crossentropy',optimizer='adam',metrics=['accuracy'])\r\n",
        "print(model.summary())"
      ],
      "execution_count": 46,
      "outputs": [
        {
          "output_type": "stream",
          "text": [
            "Model: \"sequential\"\n",
            "_________________________________________________________________\n",
            "Layer (type)                 Output Shape              Param #   \n",
            "=================================================================\n",
            "embedding (Embedding)        (None, 25, 40)            200000    \n",
            "_________________________________________________________________\n",
            "dropout (Dropout)            (None, 25, 40)            0         \n",
            "_________________________________________________________________\n",
            "lstm (LSTM)                  (None, 100)               56400     \n",
            "_________________________________________________________________\n",
            "dropout_1 (Dropout)          (None, 100)               0         \n",
            "_________________________________________________________________\n",
            "dense (Dense)                (None, 64)                6464      \n",
            "_________________________________________________________________\n",
            "dropout_2 (Dropout)          (None, 64)                0         \n",
            "_________________________________________________________________\n",
            "dense_1 (Dense)              (None, 1)                 65        \n",
            "=================================================================\n",
            "Total params: 262,929\n",
            "Trainable params: 262,929\n",
            "Non-trainable params: 0\n",
            "_________________________________________________________________\n",
            "None\n"
          ],
          "name": "stdout"
        }
      ]
    },
    {
      "cell_type": "code",
      "metadata": {
        "colab": {
          "base_uri": "https://localhost:8080/"
        },
        "id": "2-f0Z-hgxvd_",
        "outputId": "a5d15614-f4f1-46b1-bf73-2d23f84fb4dd"
      },
      "source": [
        "#Converting into numpy array\r\n",
        "X_final = np.array(embedded_docs)\r\n",
        "y_final = np.array(y)\r\n",
        "test_final = np.array(embedded_docs_test)\r\n",
        "X_final.shape,y_final.shape,test_final.shape"
      ],
      "execution_count": 47,
      "outputs": [
        {
          "output_type": "execute_result",
          "data": {
            "text/plain": [
              "((17494, 25), (17494,), (8045, 25))"
            ]
          },
          "metadata": {
            "tags": []
          },
          "execution_count": 47
        }
      ]
    },
    {
      "cell_type": "code",
      "metadata": {
        "colab": {
          "base_uri": "https://localhost:8080/"
        },
        "id": "ZFZfzCW0xvgy",
        "outputId": "fca4e264-dae7-4f34-f20c-2e864a45e77a"
      },
      "source": [
        "#training model\r\n",
        "model.fit(X_final,y_final,epochs=50,batch_size=64)"
      ],
      "execution_count": 55,
      "outputs": [
        {
          "output_type": "stream",
          "text": [
            "Epoch 1/50\n",
            "274/274 [==============================] - 10s 36ms/step - loss: 0.0818 - accuracy: 0.9679\n",
            "Epoch 2/50\n",
            "274/274 [==============================] - 10s 37ms/step - loss: 0.0725 - accuracy: 0.9716\n",
            "Epoch 3/50\n",
            "274/274 [==============================] - 10s 37ms/step - loss: 0.0642 - accuracy: 0.9774\n",
            "Epoch 4/50\n",
            "274/274 [==============================] - 10s 37ms/step - loss: 0.0646 - accuracy: 0.9750\n",
            "Epoch 5/50\n",
            "274/274 [==============================] - 10s 37ms/step - loss: 0.0637 - accuracy: 0.9756\n",
            "Epoch 6/50\n",
            "274/274 [==============================] - 10s 37ms/step - loss: 0.0576 - accuracy: 0.9792\n",
            "Epoch 7/50\n",
            "274/274 [==============================] - 10s 36ms/step - loss: 0.0559 - accuracy: 0.9805\n",
            "Epoch 8/50\n",
            "274/274 [==============================] - 10s 36ms/step - loss: 0.0551 - accuracy: 0.9786\n",
            "Epoch 9/50\n",
            "274/274 [==============================] - 10s 37ms/step - loss: 0.0492 - accuracy: 0.9813\n",
            "Epoch 10/50\n",
            "274/274 [==============================] - 10s 36ms/step - loss: 0.0529 - accuracy: 0.9791\n",
            "Epoch 11/50\n",
            "274/274 [==============================] - 10s 36ms/step - loss: 0.0485 - accuracy: 0.9826\n",
            "Epoch 12/50\n",
            "274/274 [==============================] - 10s 36ms/step - loss: 0.0414 - accuracy: 0.9836\n",
            "Epoch 13/50\n",
            "274/274 [==============================] - 10s 36ms/step - loss: 0.0464 - accuracy: 0.9838\n",
            "Epoch 14/50\n",
            "274/274 [==============================] - 10s 36ms/step - loss: 0.0450 - accuracy: 0.9841\n",
            "Epoch 15/50\n",
            "274/274 [==============================] - 10s 37ms/step - loss: 0.0428 - accuracy: 0.9835\n",
            "Epoch 16/50\n",
            "274/274 [==============================] - 10s 36ms/step - loss: 0.0420 - accuracy: 0.9847\n",
            "Epoch 17/50\n",
            "274/274 [==============================] - 10s 37ms/step - loss: 0.0344 - accuracy: 0.9868\n",
            "Epoch 18/50\n",
            "274/274 [==============================] - 10s 37ms/step - loss: 0.0380 - accuracy: 0.9860\n",
            "Epoch 19/50\n",
            "274/274 [==============================] - 10s 37ms/step - loss: 0.0367 - accuracy: 0.9862\n",
            "Epoch 20/50\n",
            "274/274 [==============================] - 10s 37ms/step - loss: 0.0371 - accuracy: 0.9871\n",
            "Epoch 21/50\n",
            "274/274 [==============================] - 10s 37ms/step - loss: 0.0376 - accuracy: 0.9857\n",
            "Epoch 22/50\n",
            "274/274 [==============================] - 10s 37ms/step - loss: 0.0346 - accuracy: 0.9878\n",
            "Epoch 23/50\n",
            "274/274 [==============================] - 10s 37ms/step - loss: 0.0305 - accuracy: 0.9888\n",
            "Epoch 24/50\n",
            "274/274 [==============================] - 10s 37ms/step - loss: 0.0313 - accuracy: 0.9879\n",
            "Epoch 25/50\n",
            "274/274 [==============================] - 10s 37ms/step - loss: 0.0310 - accuracy: 0.9891\n",
            "Epoch 26/50\n",
            "274/274 [==============================] - 10s 37ms/step - loss: 0.0309 - accuracy: 0.9889\n",
            "Epoch 27/50\n",
            "274/274 [==============================] - 10s 37ms/step - loss: 0.0325 - accuracy: 0.9895\n",
            "Epoch 28/50\n",
            "274/274 [==============================] - 10s 37ms/step - loss: 0.0302 - accuracy: 0.9896\n",
            "Epoch 29/50\n",
            "274/274 [==============================] - 10s 36ms/step - loss: 0.0292 - accuracy: 0.9898\n",
            "Epoch 30/50\n",
            "274/274 [==============================] - 10s 37ms/step - loss: 0.0286 - accuracy: 0.9895\n",
            "Epoch 31/50\n",
            "274/274 [==============================] - 10s 37ms/step - loss: 0.0308 - accuracy: 0.9886\n",
            "Epoch 32/50\n",
            "274/274 [==============================] - 10s 37ms/step - loss: 0.0291 - accuracy: 0.9903\n",
            "Epoch 33/50\n",
            "274/274 [==============================] - 10s 37ms/step - loss: 0.0267 - accuracy: 0.9904\n",
            "Epoch 34/50\n",
            "274/274 [==============================] - 10s 37ms/step - loss: 0.0300 - accuracy: 0.9890\n",
            "Epoch 35/50\n",
            "274/274 [==============================] - 10s 37ms/step - loss: 0.0230 - accuracy: 0.9921\n",
            "Epoch 36/50\n",
            "274/274 [==============================] - 10s 37ms/step - loss: 0.0222 - accuracy: 0.9922\n",
            "Epoch 37/50\n",
            "274/274 [==============================] - 10s 37ms/step - loss: 0.0255 - accuracy: 0.9909\n",
            "Epoch 38/50\n",
            "274/274 [==============================] - 10s 36ms/step - loss: 0.0295 - accuracy: 0.9897\n",
            "Epoch 39/50\n",
            "274/274 [==============================] - 10s 37ms/step - loss: 0.0253 - accuracy: 0.9916\n",
            "Epoch 40/50\n",
            "274/274 [==============================] - 10s 36ms/step - loss: 0.0250 - accuracy: 0.9907\n",
            "Epoch 41/50\n",
            "274/274 [==============================] - 10s 37ms/step - loss: 0.0249 - accuracy: 0.9914\n",
            "Epoch 42/50\n",
            "274/274 [==============================] - 10s 37ms/step - loss: 0.0230 - accuracy: 0.9917\n",
            "Epoch 43/50\n",
            "274/274 [==============================] - 10s 37ms/step - loss: 0.0217 - accuracy: 0.9925\n",
            "Epoch 44/50\n",
            "274/274 [==============================] - 10s 36ms/step - loss: 0.0243 - accuracy: 0.9913\n",
            "Epoch 45/50\n",
            "274/274 [==============================] - 10s 37ms/step - loss: 0.0250 - accuracy: 0.9905\n",
            "Epoch 46/50\n",
            "274/274 [==============================] - 10s 36ms/step - loss: 0.0205 - accuracy: 0.9929\n",
            "Epoch 47/50\n",
            "274/274 [==============================] - 10s 37ms/step - loss: 0.0231 - accuracy: 0.9922\n",
            "Epoch 48/50\n",
            "274/274 [==============================] - 10s 37ms/step - loss: 0.0228 - accuracy: 0.9919\n",
            "Epoch 49/50\n",
            "274/274 [==============================] - 10s 36ms/step - loss: 0.0216 - accuracy: 0.9928\n",
            "Epoch 50/50\n",
            "274/274 [==============================] - 10s 37ms/step - loss: 0.0205 - accuracy: 0.9927\n"
          ],
          "name": "stdout"
        },
        {
          "output_type": "execute_result",
          "data": {
            "text/plain": [
              "<tensorflow.python.keras.callbacks.History at 0x7ff00dd927d0>"
            ]
          },
          "metadata": {
            "tags": []
          },
          "execution_count": 55
        }
      ]
    },
    {
      "cell_type": "code",
      "metadata": {
        "colab": {
          "base_uri": "https://localhost:8080/"
        },
        "id": "PnovsU-wxvj5",
        "outputId": "5e33f53c-fde9-4797-9ba5-87680f8fbd34"
      },
      "source": [
        "y_pred = model.predict_classes(test_final)"
      ],
      "execution_count": 56,
      "outputs": [
        {
          "output_type": "stream",
          "text": [
            "/usr/local/lib/python3.7/dist-packages/tensorflow/python/keras/engine/sequential.py:450: UserWarning: `model.predict_classes()` is deprecated and will be removed after 2021-01-01. Please use instead:* `np.argmax(model.predict(x), axis=-1)`,   if your model does multi-class classification   (e.g. if it uses a `softmax` last-layer activation).* `(model.predict(x) > 0.5).astype(\"int32\")`,   if your model does binary classification   (e.g. if it uses a `sigmoid` last-layer activation).\n",
            "  warnings.warn('`model.predict_classes()` is deprecated and '\n"
          ],
          "name": "stderr"
        }
      ]
    },
    {
      "cell_type": "code",
      "metadata": {
        "id": "x_gO7SJexvmO"
      },
      "source": [
        "final_sub = pd.DataFrame()\r\n",
        "final_sub['review_id']=test['review_id']\r\n",
        "final_sub['user_suggestion'] = y_pred\r\n",
        "final_sub.to_csv('final_sub2.csv',index=False)"
      ],
      "execution_count": 58,
      "outputs": []
    }
  ]
}